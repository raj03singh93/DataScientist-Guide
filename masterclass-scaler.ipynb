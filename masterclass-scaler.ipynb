{
 "cells": [
  {
   "cell_type": "code",
   "execution_count": 1,
   "metadata": {
    "_cell_guid": "b1076dfc-b9ad-4769-8c92-a6c4dae69d19",
    "_uuid": "8f2839f25d086af736a60e9eeb907d3b93b6e0e5",
    "execution": {
     "iopub.execute_input": "2022-08-20T13:03:48.687798Z",
     "iopub.status.busy": "2022-08-20T13:03:48.686982Z",
     "iopub.status.idle": "2022-08-20T13:03:48.723219Z",
     "shell.execute_reply": "2022-08-20T13:03:48.722144Z",
     "shell.execute_reply.started": "2022-08-20T13:03:48.687690Z"
    }
   },
   "outputs": [],
   "source": [
    "# This Python 3 environment comes with many helpful analytics libraries installed\n",
    "# It is defined by the kaggle/python Docker image: https://github.com/kaggle/docker-python\n",
    "# For example, here's several helpful packages to load\n",
    "\n",
    "import numpy as np # linear algebra\n",
    "import pandas as pd # data processing, CSV file I/O (e.g. pd.read_csv)\n",
    "\n",
    "# Input data files are available in the read-only \"../input/\" directory\n",
    "# For example, running this (by clicking run or pressing Shift+Enter) will list all files under the input directory\n",
    "\n",
    "import os\n",
    "for dirname, _, filenames in os.walk('/kaggle/input'):\n",
    "    for filename in filenames:\n",
    "        print(os.path.join(dirname, filename))\n",
    "\n",
    "# You can write up to 20GB to the current directory (/kaggle/working/) that gets preserved as output when you create a version using \"Save & Run All\" \n",
    "# You can also write temporary files to /kaggle/temp/, but they won't be saved outside of the current session"
   ]
  },
  {
   "cell_type": "code",
   "execution_count": 8,
   "metadata": {
    "execution": {
     "iopub.execute_input": "2022-08-20T13:17:48.694388Z",
     "iopub.status.busy": "2022-08-20T13:17:48.693596Z",
     "iopub.status.idle": "2022-08-20T13:17:48.710187Z",
     "shell.execute_reply": "2022-08-20T13:17:48.708369Z",
     "shell.execute_reply.started": "2022-08-20T13:17:48.694340Z"
    }
   },
   "outputs": [],
   "source": [
    "data = pd.read_csv('/kaggle/input/telecom-churn/telecom_churn.csv')"
   ]
  },
  {
   "cell_type": "code",
   "execution_count": 10,
   "metadata": {
    "execution": {
     "iopub.execute_input": "2022-08-20T13:20:32.551445Z",
     "iopub.status.busy": "2022-08-20T13:20:32.551023Z",
     "iopub.status.idle": "2022-08-20T13:20:32.570085Z",
     "shell.execute_reply": "2022-08-20T13:20:32.568734Z",
     "shell.execute_reply.started": "2022-08-20T13:20:32.551413Z"
    }
   },
   "outputs": [],
   "source": [
    "#Metadata\n",
    "data.info()\n"
   ]
  },
  {
   "cell_type": "code",
   "execution_count": 9,
   "metadata": {
    "execution": {
     "iopub.execute_input": "2022-08-20T13:20:05.499899Z",
     "iopub.status.busy": "2022-08-20T13:20:05.499473Z",
     "iopub.status.idle": "2022-08-20T13:20:05.870186Z",
     "shell.execute_reply": "2022-08-20T13:20:05.868940Z",
     "shell.execute_reply.started": "2022-08-20T13:20:05.499865Z"
    }
   },
   "outputs": [],
   "source": [
    "#Statistics on numerical\n",
    "data.describe()"
   ]
  },
  {
   "cell_type": "code",
   "execution_count": 12,
   "metadata": {
    "execution": {
     "iopub.execute_input": "2022-08-20T13:24:45.520252Z",
     "iopub.status.busy": "2022-08-20T13:24:45.519806Z",
     "iopub.status.idle": "2022-08-20T13:24:45.529314Z",
     "shell.execute_reply": "2022-08-20T13:24:45.527955Z",
     "shell.execute_reply.started": "2022-08-20T13:24:45.520219Z"
    }
   },
   "outputs": [],
   "source": [
    "#change datatype of \"churn\" column to category from numeric\n",
    "data['Churn'] = data['Churn'].astype(\"category\")"
   ]
  },
  {
   "cell_type": "code",
   "execution_count": 14,
   "metadata": {
    "execution": {
     "iopub.execute_input": "2022-08-20T13:29:37.734239Z",
     "iopub.status.busy": "2022-08-20T13:29:37.732736Z",
     "iopub.status.idle": "2022-08-20T13:29:37.784330Z",
     "shell.execute_reply": "2022-08-20T13:29:37.782817Z",
     "shell.execute_reply.started": "2022-08-20T13:29:37.734188Z"
    }
   },
   "outputs": [],
   "source": [
    "'''\n",
    "50% is median\n",
    "Outlier - If there is large difference bt in mean and median\n",
    "'''\n",
    "data.describe()"
   ]
  },
  {
   "cell_type": "code",
   "execution_count": 15,
   "metadata": {
    "execution": {
     "iopub.execute_input": "2022-08-20T13:31:48.208596Z",
     "iopub.status.busy": "2022-08-20T13:31:48.208173Z",
     "iopub.status.idle": "2022-08-20T13:31:48.793254Z",
     "shell.execute_reply": "2022-08-20T13:31:48.791576Z",
     "shell.execute_reply.started": "2022-08-20T13:31:48.208565Z"
    }
   },
   "outputs": [],
   "source": [
    "#Remove outlier, IQR(Inter Quartile Range)\n",
    "import seaborn as cat"
   ]
  },
  {
   "cell_type": "code",
   "execution_count": 16,
   "metadata": {
    "execution": {
     "iopub.execute_input": "2022-08-20T13:33:04.580957Z",
     "iopub.status.busy": "2022-08-20T13:33:04.580500Z",
     "iopub.status.idle": "2022-08-20T13:33:04.795946Z",
     "shell.execute_reply": "2022-08-20T13:33:04.794603Z",
     "shell.execute_reply.started": "2022-08-20T13:33:04.580923Z"
    }
   },
   "outputs": [],
   "source": [
    "cat.boxplot(data['DataUsage'])"
   ]
  },
  {
   "cell_type": "code",
   "execution_count": 17,
   "metadata": {
    "execution": {
     "iopub.execute_input": "2022-08-20T13:34:11.668976Z",
     "iopub.status.busy": "2022-08-20T13:34:11.668513Z",
     "iopub.status.idle": "2022-08-20T13:34:11.847881Z",
     "shell.execute_reply": "2022-08-20T13:34:11.846759Z",
     "shell.execute_reply.started": "2022-08-20T13:34:11.668941Z"
    }
   },
   "outputs": [],
   "source": [
    "cat.boxplot(data['CustServCalls'])"
   ]
  },
  {
   "cell_type": "code",
   "execution_count": 18,
   "metadata": {
    "execution": {
     "iopub.execute_input": "2022-08-20T13:41:33.373204Z",
     "iopub.status.busy": "2022-08-20T13:41:33.372715Z",
     "iopub.status.idle": "2022-08-20T13:41:33.567716Z",
     "shell.execute_reply": "2022-08-20T13:41:33.566296Z",
     "shell.execute_reply.started": "2022-08-20T13:41:33.373168Z"
    }
   },
   "outputs": [],
   "source": [
    "cat.boxplot(data['Churn'],data['CustServCalls'])"
   ]
  },
  {
   "cell_type": "code",
   "execution_count": 20,
   "metadata": {
    "execution": {
     "iopub.execute_input": "2022-08-20T13:51:04.375030Z",
     "iopub.status.busy": "2022-08-20T13:51:04.374566Z",
     "iopub.status.idle": "2022-08-20T13:51:04.713661Z",
     "shell.execute_reply": "2022-08-20T13:51:04.712028Z",
     "shell.execute_reply.started": "2022-08-20T13:51:04.374994Z"
    }
   },
   "outputs": [],
   "source": [
    "cat.scatterplot(data['MonthlyCharge'], data['OverageFee'], hue = data['Churn'])"
   ]
  },
  {
   "cell_type": "code",
   "execution_count": 21,
   "metadata": {
    "execution": {
     "iopub.execute_input": "2022-08-20T13:55:19.218601Z",
     "iopub.status.busy": "2022-08-20T13:55:19.218197Z",
     "iopub.status.idle": "2022-08-20T13:55:39.838517Z",
     "shell.execute_reply": "2022-08-20T13:55:39.836519Z",
     "shell.execute_reply.started": "2022-08-20T13:55:19.218561Z"
    }
   },
   "outputs": [],
   "source": [
    "cat.pairplot(data)"
   ]
  },
  {
   "cell_type": "code",
   "execution_count": 22,
   "metadata": {
    "execution": {
     "iopub.execute_input": "2022-08-20T13:57:00.177965Z",
     "iopub.status.busy": "2022-08-20T13:57:00.177435Z",
     "iopub.status.idle": "2022-08-20T13:57:00.204108Z",
     "shell.execute_reply": "2022-08-20T13:57:00.202908Z",
     "shell.execute_reply.started": "2022-08-20T13:57:00.177924Z"
    }
   },
   "outputs": [],
   "source": [
    "#Correlation\n",
    "data.corr()"
   ]
  },
  {
   "cell_type": "code",
   "execution_count": 24,
   "metadata": {
    "execution": {
     "iopub.execute_input": "2022-08-20T13:58:51.328820Z",
     "iopub.status.busy": "2022-08-20T13:58:51.327405Z",
     "iopub.status.idle": "2022-08-20T13:58:51.387248Z",
     "shell.execute_reply": "2022-08-20T13:58:51.385248Z",
     "shell.execute_reply.started": "2022-08-20T13:58:51.328773Z"
    }
   },
   "outputs": [],
   "source": [
    "cat.heatmap(data.corr(), annot=true)"
   ]
  },
  {
   "cell_type": "code",
   "execution_count": null,
   "metadata": {},
   "outputs": [],
   "source": []
  }
 ],
 "metadata": {
  "kernelspec": {
   "display_name": "Python 3 (ipykernel)",
   "language": "python",
   "name": "python3"
  },
  "language_info": {
   "codemirror_mode": {
    "name": "ipython",
    "version": 3
   },
   "file_extension": ".py",
   "mimetype": "text/x-python",
   "name": "python",
   "nbconvert_exporter": "python",
   "pygments_lexer": "ipython3",
   "version": "3.9.12"
  }
 },
 "nbformat": 4,
 "nbformat_minor": 4
}
