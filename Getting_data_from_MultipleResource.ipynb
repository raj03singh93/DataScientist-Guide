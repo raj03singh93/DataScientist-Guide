{
 "cells": [
  {
   "cell_type": "markdown",
   "id": "bc80d70b",
   "metadata": {},
   "source": [
    "## Some Handi Jupyter shortcuts\n",
    "\n",
    "Shift + enter : To run and move to next cell.\n",
    "\n",
    "ctrl + enter : To run current cell.\n",
    "\n",
    "Tab :  To autocomplete.\n",
    "\n",
    "Shift + tab : To see documentation."
   ]
  },
  {
   "cell_type": "markdown",
   "id": "22509e51",
   "metadata": {},
   "source": [
    "# Get data from multiple resource"
   ]
  },
  {
   "cell_type": "code",
   "execution_count": 9,
   "id": "c0ea697c",
   "metadata": {},
   "outputs": [],
   "source": [
    "import requests as req\n",
    "import pandas as pd"
   ]
  },
  {
   "cell_type": "markdown",
   "id": "3c9c607d",
   "metadata": {},
   "source": [
    "### Get data from files"
   ]
  },
  {
   "cell_type": "code",
   "execution_count": 5,
   "id": "74a69234",
   "metadata": {},
   "outputs": [],
   "source": [
    "# To read excel\n",
    "exldf = pd.read_excel(\"someexcel.xlsx\", sheet_name = \"mysheet\")\n",
    "\n",
    "# To read csv\n",
    "csvdf = pd.read_csv(\"dict_without_index.csv\")"
   ]
  },
  {
   "cell_type": "code",
   "execution_count": 7,
   "id": "1002c9d0",
   "metadata": {},
   "outputs": [
    {
     "data": {
      "text/html": [
       "<div>\n",
       "<style scoped>\n",
       "    .dataframe tbody tr th:only-of-type {\n",
       "        vertical-align: middle;\n",
       "    }\n",
       "\n",
       "    .dataframe tbody tr th {\n",
       "        vertical-align: top;\n",
       "    }\n",
       "\n",
       "    .dataframe thead th {\n",
       "        text-align: right;\n",
       "    }\n",
       "</style>\n",
       "<table border=\"1\" class=\"dataframe\">\n",
       "  <thead>\n",
       "    <tr style=\"text-align: right;\">\n",
       "      <th></th>\n",
       "      <th>B</th>\n",
       "      <th>D</th>\n",
       "      <th>E</th>\n",
       "    </tr>\n",
       "  </thead>\n",
       "  <tbody>\n",
       "    <tr>\n",
       "      <th>0</th>\n",
       "      <td>0.649527</td>\n",
       "      <td>0.809788</td>\n",
       "      <td>0.280809</td>\n",
       "    </tr>\n",
       "    <tr>\n",
       "      <th>1</th>\n",
       "      <td>0.961442</td>\n",
       "      <td>0.716929</td>\n",
       "      <td>0.885945</td>\n",
       "    </tr>\n",
       "  </tbody>\n",
       "</table>\n",
       "</div>"
      ],
      "text/plain": [
       "          B         D         E\n",
       "0  0.649527  0.809788  0.280809\n",
       "1  0.961442  0.716929  0.885945"
      ]
     },
     "execution_count": 7,
     "metadata": {},
     "output_type": "execute_result"
    }
   ],
   "source": [
    "exldf.head(2)"
   ]
  },
  {
   "cell_type": "code",
   "execution_count": 8,
   "id": "98d73d66",
   "metadata": {},
   "outputs": [
    {
     "data": {
      "text/html": [
       "<div>\n",
       "<style scoped>\n",
       "    .dataframe tbody tr th:only-of-type {\n",
       "        vertical-align: middle;\n",
       "    }\n",
       "\n",
       "    .dataframe tbody tr th {\n",
       "        vertical-align: top;\n",
       "    }\n",
       "\n",
       "    .dataframe thead th {\n",
       "        text-align: right;\n",
       "    }\n",
       "</style>\n",
       "<table border=\"1\" class=\"dataframe\">\n",
       "  <thead>\n",
       "    <tr style=\"text-align: right;\">\n",
       "      <th></th>\n",
       "      <th>name</th>\n",
       "      <th>degree</th>\n",
       "      <th>score</th>\n",
       "    </tr>\n",
       "  </thead>\n",
       "  <tbody>\n",
       "    <tr>\n",
       "      <th>0</th>\n",
       "      <td>aparna</td>\n",
       "      <td>MBA</td>\n",
       "      <td>90</td>\n",
       "    </tr>\n",
       "    <tr>\n",
       "      <th>1</th>\n",
       "      <td>pankaj</td>\n",
       "      <td>BCA</td>\n",
       "      <td>40</td>\n",
       "    </tr>\n",
       "    <tr>\n",
       "      <th>2</th>\n",
       "      <td>sudhir</td>\n",
       "      <td>M.Tech</td>\n",
       "      <td>80</td>\n",
       "    </tr>\n",
       "  </tbody>\n",
       "</table>\n",
       "</div>"
      ],
      "text/plain": [
       "     name  degree  score\n",
       "0  aparna     MBA     90\n",
       "1  pankaj     BCA     40\n",
       "2  sudhir  M.Tech     80"
      ]
     },
     "execution_count": 8,
     "metadata": {},
     "output_type": "execute_result"
    }
   ],
   "source": [
    "csvdf.head(3)"
   ]
  },
  {
   "cell_type": "markdown",
   "id": "fc9d2f0a",
   "metadata": {},
   "source": [
    "### Get Data from API to dataframe"
   ]
  },
  {
   "cell_type": "code",
   "execution_count": 32,
   "id": "85e088e7",
   "metadata": {},
   "outputs": [
    {
     "data": {
      "text/html": [
       "<div>\n",
       "<style scoped>\n",
       "    .dataframe tbody tr th:only-of-type {\n",
       "        vertical-align: middle;\n",
       "    }\n",
       "\n",
       "    .dataframe tbody tr th {\n",
       "        vertical-align: top;\n",
       "    }\n",
       "\n",
       "    .dataframe thead th {\n",
       "        text-align: right;\n",
       "    }\n",
       "</style>\n",
       "<table border=\"1\" class=\"dataframe\">\n",
       "  <thead>\n",
       "    <tr style=\"text-align: right;\">\n",
       "      <th></th>\n",
       "      <th>postId</th>\n",
       "      <th>id</th>\n",
       "      <th>name</th>\n",
       "      <th>email</th>\n",
       "      <th>body</th>\n",
       "    </tr>\n",
       "  </thead>\n",
       "  <tbody>\n",
       "    <tr>\n",
       "      <th>0</th>\n",
       "      <td>1</td>\n",
       "      <td>1</td>\n",
       "      <td>id labore ex et quam laborum</td>\n",
       "      <td>Eliseo@gardner.biz</td>\n",
       "      <td>laudantium enim quasi est quidem magnam volupt...</td>\n",
       "    </tr>\n",
       "    <tr>\n",
       "      <th>1</th>\n",
       "      <td>1</td>\n",
       "      <td>2</td>\n",
       "      <td>quo vero reiciendis velit similique earum</td>\n",
       "      <td>Jayne_Kuhic@sydney.com</td>\n",
       "      <td>est natus enim nihil est dolore omnis voluptat...</td>\n",
       "    </tr>\n",
       "    <tr>\n",
       "      <th>2</th>\n",
       "      <td>1</td>\n",
       "      <td>3</td>\n",
       "      <td>odio adipisci rerum aut animi</td>\n",
       "      <td>Nikita@garfield.biz</td>\n",
       "      <td>quia molestiae reprehenderit quasi aspernatur\\...</td>\n",
       "    </tr>\n",
       "    <tr>\n",
       "      <th>3</th>\n",
       "      <td>1</td>\n",
       "      <td>4</td>\n",
       "      <td>alias odio sit</td>\n",
       "      <td>Lew@alysha.tv</td>\n",
       "      <td>non et atque\\noccaecati deserunt quas accusant...</td>\n",
       "    </tr>\n",
       "    <tr>\n",
       "      <th>4</th>\n",
       "      <td>1</td>\n",
       "      <td>5</td>\n",
       "      <td>vero eaque aliquid doloribus et culpa</td>\n",
       "      <td>Hayden@althea.biz</td>\n",
       "      <td>harum non quasi et ratione\\ntempore iure ex vo...</td>\n",
       "    </tr>\n",
       "  </tbody>\n",
       "</table>\n",
       "</div>"
      ],
      "text/plain": [
       "   postId  id                                       name  \\\n",
       "0       1   1               id labore ex et quam laborum   \n",
       "1       1   2  quo vero reiciendis velit similique earum   \n",
       "2       1   3              odio adipisci rerum aut animi   \n",
       "3       1   4                             alias odio sit   \n",
       "4       1   5      vero eaque aliquid doloribus et culpa   \n",
       "\n",
       "                    email                                               body  \n",
       "0      Eliseo@gardner.biz  laudantium enim quasi est quidem magnam volupt...  \n",
       "1  Jayne_Kuhic@sydney.com  est natus enim nihil est dolore omnis voluptat...  \n",
       "2     Nikita@garfield.biz  quia molestiae reprehenderit quasi aspernatur\\...  \n",
       "3           Lew@alysha.tv  non et atque\\noccaecati deserunt quas accusant...  \n",
       "4       Hayden@althea.biz  harum non quasi et ratione\\ntempore iure ex vo...  "
      ]
     },
     "execution_count": 32,
     "metadata": {},
     "output_type": "execute_result"
    }
   ],
   "source": [
    "response = req.get(\"https://jsonplaceholder.typicode.com/comments\", params = { 'postId' : '1' })\n",
    "jsondata = response.json()\n",
    "df = pd.DataFrame(jsondata)\n",
    "df"
   ]
  },
  {
   "cell_type": "markdown",
   "id": "3fb608a8",
   "metadata": {},
   "source": [
    "### Get data from SQL server"
   ]
  },
  {
   "cell_type": "code",
   "execution_count": 13,
   "id": "81aee8cc",
   "metadata": {},
   "outputs": [],
   "source": [
    "import pyodbc\n",
    "'''\n",
    "Connecting to a sql based DB is a 3 step process using pyodbc -\n",
    "1) Create connection string. You can get the connection string sample from the link https://www.connectionstrings.com/\n",
    "2) Connect To data base.\n",
    "3) Create a cursor to make queries\n",
    "NOTE: use COMMIT if you are changing any data and make sure to CLOSE cursor and connection.\n",
    "This can be use to connect AZURE SQL Database, MS SQL Server, MySQL, MS Access etc\n",
    "'''\n",
    "\n",
    "# Create connection string\n",
    "conn_str = (\"Driver={ODBC Driver 17 for SQL Server};\"\n",
    "            \"Server=LAPTOP-9EI2AHBP;\"\n",
    "            \"Database=MyTestDB;\"\n",
    "            \"UID=QATUser;\"\n",
    "            \"PWD=p@s$word!123\")\n",
    "\n",
    "# Connect To database.\n",
    "conn = pyodbc.connect(cnxn_str)\n",
    "#Create a cursor\n",
    "cursor = conn.cursor()\n",
    "query = (\"SELECT TOP(100) * FROM Candidates\")\n",
    "############### SQl Operations ###################\n",
    "'''\n",
    "cursor.execute(query)\n",
    "sqlData = cursor.fetchall() # fetches all data, you can use fetchone for single record\n",
    "print(sqlData)\n",
    "'''\n",
    "##################################\n",
    "\n",
    "################ Reading to pandas ##################\n",
    "# Panda uses sqlalchemy engine\n",
    "from sqlalchemy import create_engine, event\n",
    "from sqlalchemy.engine.url import URL\n",
    "\n",
    "conn_url = URL.create(\"mssql+pyodbc\", query={\"odbc_connect\": conn_str})\n",
    "engine = create_engine(conn_url)\n",
    "\n",
    "sqlDf = pd.read_sql(query, engine)\n",
    "sqlDf\n",
    "##################################\n",
    "cursor.close()\n",
    "conn.close()\n"
   ]
  },
  {
   "cell_type": "code",
   "execution_count": 25,
   "id": "e3060050",
   "metadata": {},
   "outputs": [
    {
     "data": {
      "text/html": [
       "<div>\n",
       "<style scoped>\n",
       "    .dataframe tbody tr th:only-of-type {\n",
       "        vertical-align: middle;\n",
       "    }\n",
       "\n",
       "    .dataframe tbody tr th {\n",
       "        vertical-align: top;\n",
       "    }\n",
       "\n",
       "    .dataframe thead th {\n",
       "        text-align: right;\n",
       "    }\n",
       "</style>\n",
       "<table border=\"1\" class=\"dataframe\">\n",
       "  <thead>\n",
       "    <tr style=\"text-align: right;\">\n",
       "      <th></th>\n",
       "      <th>id</th>\n",
       "      <th>FirstName</th>\n",
       "      <th>LastName</th>\n",
       "    </tr>\n",
       "  </thead>\n",
       "  <tbody>\n",
       "    <tr>\n",
       "      <th>0</th>\n",
       "      <td>1</td>\n",
       "      <td>Raj kumar</td>\n",
       "      <td>singh</td>\n",
       "    </tr>\n",
       "    <tr>\n",
       "      <th>1</th>\n",
       "      <td>2</td>\n",
       "      <td>Atul</td>\n",
       "      <td>Vishwakarma</td>\n",
       "    </tr>\n",
       "  </tbody>\n",
       "</table>\n",
       "</div>"
      ],
      "text/plain": [
       "   id  FirstName     LastName\n",
       "0   1  Raj kumar        singh\n",
       "1   2       Atul  Vishwakarma"
      ]
     },
     "execution_count": 25,
     "metadata": {},
     "output_type": "execute_result"
    }
   ],
   "source": [
    "sqlDf"
   ]
  },
  {
   "cell_type": "markdown",
   "id": "dfbbc48c",
   "metadata": {
    "scrolled": true
   },
   "source": [
    "### Get Data from Azure cloud"
   ]
  },
  {
   "cell_type": "code",
   "execution_count": 22,
   "id": "48fc02ce",
   "metadata": {},
   "outputs": [
    {
     "data": {
      "text/html": [
       "<div>\n",
       "<style scoped>\n",
       "    .dataframe tbody tr th:only-of-type {\n",
       "        vertical-align: middle;\n",
       "    }\n",
       "\n",
       "    .dataframe tbody tr th {\n",
       "        vertical-align: top;\n",
       "    }\n",
       "\n",
       "    .dataframe thead th {\n",
       "        text-align: right;\n",
       "    }\n",
       "</style>\n",
       "<table border=\"1\" class=\"dataframe\">\n",
       "  <thead>\n",
       "    <tr style=\"text-align: right;\">\n",
       "      <th></th>\n",
       "      <th>id</th>\n",
       "      <th>FirstName</th>\n",
       "      <th>LastName</th>\n",
       "    </tr>\n",
       "  </thead>\n",
       "  <tbody>\n",
       "    <tr>\n",
       "      <th>0</th>\n",
       "      <td>1</td>\n",
       "      <td>Raj kumar</td>\n",
       "      <td>singh</td>\n",
       "    </tr>\n",
       "    <tr>\n",
       "      <th>1</th>\n",
       "      <td>2</td>\n",
       "      <td>Atul</td>\n",
       "      <td>Vishwakarma</td>\n",
       "    </tr>\n",
       "  </tbody>\n",
       "</table>\n",
       "</div>"
      ],
      "text/plain": [
       "   id  FirstName     LastName\n",
       "0   1  Raj kumar        singh\n",
       "1   2       Atul  Vishwakarma"
      ]
     },
     "execution_count": 22,
     "metadata": {},
     "output_type": "execute_result"
    }
   ],
   "source": []
  }
 ],
 "metadata": {
  "kernelspec": {
   "display_name": "Python 3 (ipykernel)",
   "language": "python",
   "name": "python3"
  },
  "language_info": {
   "codemirror_mode": {
    "name": "ipython",
    "version": 3
   },
   "file_extension": ".py",
   "mimetype": "text/x-python",
   "name": "python",
   "nbconvert_exporter": "python",
   "pygments_lexer": "ipython3",
   "version": "3.9.12"
  }
 },
 "nbformat": 4,
 "nbformat_minor": 5
}
