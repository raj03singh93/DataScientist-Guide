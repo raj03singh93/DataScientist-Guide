{
 "cells": [
  {
   "cell_type": "markdown",
   "id": "669468ec",
   "metadata": {},
   "source": [
    "## Some Handi Jupyter shortcuts\n",
    "\n",
    "Shift + enter : To run and move to next cell.\n",
    "\n",
    "ctrl + enter : To run current cell.\n",
    "\n",
    "Tab :  To autocomplete.\n",
    "\n",
    "Shift + tab : To see documentation."
   ]
  },
  {
   "cell_type": "markdown",
   "id": "e93642a5",
   "metadata": {},
   "source": [
    "# From here starts Numpy basic functions"
   ]
  },
  {
   "cell_type": "code",
   "execution_count": 1,
   "id": "ee06be9e",
   "metadata": {},
   "outputs": [],
   "source": [
    "import numpy as np"
   ]
  },
  {
   "cell_type": "code",
   "execution_count": 3,
   "id": "ef0bde85",
   "metadata": {},
   "outputs": [],
   "source": [
    "# Creating numpy array 1D\n",
    "arr = np.array([4,8,3,4,1])"
   ]
  },
  {
   "cell_type": "code",
   "execution_count": 5,
   "id": "ee1d078a",
   "metadata": {},
   "outputs": [],
   "source": [
    "# Creating with type 1D\n",
    "arr = np.array([5,8,2,87,3], np.int8)"
   ]
  },
  {
   "cell_type": "code",
   "execution_count": 6,
   "id": "6132bce5",
   "metadata": {},
   "outputs": [
    {
     "data": {
      "text/plain": [
       "array([ 5,  8,  2, 87,  3], dtype=int8)"
      ]
     },
     "execution_count": 6,
     "metadata": {},
     "output_type": "execute_result"
    }
   ],
   "source": [
    "arr"
   ]
  },
  {
   "cell_type": "code",
   "execution_count": 7,
   "id": "2f54c245",
   "metadata": {},
   "outputs": [
    {
     "data": {
      "text/plain": [
       "8"
      ]
     },
     "execution_count": 7,
     "metadata": {},
     "output_type": "execute_result"
    }
   ],
   "source": [
    "# Access 2D array values\n",
    "arr[1]"
   ]
  },
  {
   "cell_type": "code",
   "execution_count": 8,
   "id": "d80ca04f",
   "metadata": {},
   "outputs": [],
   "source": [
    "# Creating 2D array\n",
    "twoDarr = np.array([[4,5,3,8],[1,9,3,7]], np.int8)"
   ]
  },
  {
   "cell_type": "code",
   "execution_count": 9,
   "id": "195a74cb",
   "metadata": {},
   "outputs": [
    {
     "data": {
      "text/plain": [
       "array([[4, 5, 3, 8],\n",
       "       [1, 9, 3, 7]], dtype=int8)"
      ]
     },
     "execution_count": 9,
     "metadata": {},
     "output_type": "execute_result"
    }
   ],
   "source": [
    "twoDarr"
   ]
  },
  {
   "cell_type": "code",
   "execution_count": 10,
   "id": "78bc1a23",
   "metadata": {},
   "outputs": [
    {
     "data": {
      "text/plain": [
       "3"
      ]
     },
     "execution_count": 10,
     "metadata": {},
     "output_type": "execute_result"
    }
   ],
   "source": [
    "# Access 2D array values\n",
    "twoDarr[0,2]"
   ]
  },
  {
   "cell_type": "markdown",
   "id": "3ded8060",
   "metadata": {},
   "source": [
    "### Array Creation : Conversion from Python object"
   ]
  },
  {
   "cell_type": "code",
   "execution_count": 11,
   "id": "f16596dd",
   "metadata": {},
   "outputs": [],
   "source": [
    "arrList = np.array([[1,2,5,3,5], [8,4,6,7,5]])"
   ]
  },
  {
   "cell_type": "code",
   "execution_count": 13,
   "id": "87cf1fb2",
   "metadata": {},
   "outputs": [
    {
     "data": {
      "text/plain": [
       "dtype('int32')"
      ]
     },
     "execution_count": 13,
     "metadata": {},
     "output_type": "execute_result"
    }
   ],
   "source": [
    "arrList.dtype"
   ]
  },
  {
   "cell_type": "code",
   "execution_count": 14,
   "id": "4a6b47ec",
   "metadata": {},
   "outputs": [
    {
     "data": {
      "text/plain": [
       "(2, 5)"
      ]
     },
     "execution_count": 14,
     "metadata": {},
     "output_type": "execute_result"
    }
   ],
   "source": [
    "arrList.shape"
   ]
  },
  {
   "cell_type": "code",
   "execution_count": 15,
   "id": "51a7327c",
   "metadata": {},
   "outputs": [
    {
     "data": {
      "text/plain": [
       "10"
      ]
     },
     "execution_count": 15,
     "metadata": {},
     "output_type": "execute_result"
    }
   ],
   "source": [
    "arrList.size"
   ]
  },
  {
   "cell_type": "markdown",
   "id": "df918ff3",
   "metadata": {},
   "source": [
    "### Array Creation : using intrinsic methods"
   ]
  },
  {
   "cell_type": "code",
   "execution_count": 17,
   "id": "0331e909",
   "metadata": {},
   "outputs": [],
   "source": [
    "# Creates array of the given dimention with 0 as default values\n",
    "zero = np.zeros((3, 5))"
   ]
  },
  {
   "cell_type": "code",
   "execution_count": 19,
   "id": "503ac125",
   "metadata": {},
   "outputs": [
    {
     "data": {
      "text/plain": [
       "array([[0., 0., 0., 0., 0.],\n",
       "       [0., 0., 0., 0., 0.],\n",
       "       [0., 0., 0., 0., 0.]])"
      ]
     },
     "execution_count": 19,
     "metadata": {},
     "output_type": "execute_result"
    }
   ],
   "source": [
    "zero"
   ]
  },
  {
   "cell_type": "code",
   "execution_count": 20,
   "id": "87845039",
   "metadata": {},
   "outputs": [
    {
     "data": {
      "text/plain": [
       "(3, 5)"
      ]
     },
     "execution_count": 20,
     "metadata": {},
     "output_type": "execute_result"
    }
   ],
   "source": [
    "zero.shape"
   ]
  },
  {
   "cell_type": "code",
   "execution_count": 21,
   "id": "c5e00ba4",
   "metadata": {},
   "outputs": [
    {
     "data": {
      "text/plain": [
       "dtype('float64')"
      ]
     },
     "execution_count": 21,
     "metadata": {},
     "output_type": "execute_result"
    }
   ],
   "source": [
    "zero.dtype"
   ]
  },
  {
   "cell_type": "code",
   "execution_count": 22,
   "id": "758b29d4",
   "metadata": {},
   "outputs": [
    {
     "data": {
      "text/plain": [
       "15"
      ]
     },
     "execution_count": 22,
     "metadata": {},
     "output_type": "execute_result"
    }
   ],
   "source": [
    "zero.size"
   ]
  },
  {
   "cell_type": "code",
   "execution_count": 23,
   "id": "7444f9d6",
   "metadata": {},
   "outputs": [],
   "source": [
    "# Creates 1D array with the given range\n",
    "rang = np.arange(20)"
   ]
  },
  {
   "cell_type": "code",
   "execution_count": 24,
   "id": "5b6faa64",
   "metadata": {},
   "outputs": [
    {
     "data": {
      "text/plain": [
       "array([ 0,  1,  2,  3,  4,  5,  6,  7,  8,  9, 10, 11, 12, 13, 14, 15, 16,\n",
       "       17, 18, 19])"
      ]
     },
     "execution_count": 24,
     "metadata": {},
     "output_type": "execute_result"
    }
   ],
   "source": [
    "rang"
   ]
  },
  {
   "cell_type": "code",
   "execution_count": 25,
   "id": "13ebfb8c",
   "metadata": {},
   "outputs": [],
   "source": [
    "# linspace equally spaced value between 2 given numbers\n",
    "'''\n",
    "In below example it gives 10 equally space number between 1 and 50\n",
    "'''\n",
    "lspace = np.linspace(1, 50, 10)"
   ]
  },
  {
   "cell_type": "code",
   "execution_count": 26,
   "id": "25742cb1",
   "metadata": {},
   "outputs": [
    {
     "data": {
      "text/plain": [
       "array([ 1.        ,  6.44444444, 11.88888889, 17.33333333, 22.77777778,\n",
       "       28.22222222, 33.66666667, 39.11111111, 44.55555556, 50.        ])"
      ]
     },
     "execution_count": 26,
     "metadata": {},
     "output_type": "execute_result"
    }
   ],
   "source": [
    "lspace"
   ]
  },
  {
   "cell_type": "code",
   "execution_count": 28,
   "id": "413655c4",
   "metadata": {},
   "outputs": [],
   "source": [
    "# Gives empty array based on the values provided for rows and columns\n",
    "emp = np.empty((2,3))"
   ]
  },
  {
   "cell_type": "code",
   "execution_count": 29,
   "id": "2f9394ed",
   "metadata": {},
   "outputs": [
    {
     "data": {
      "text/plain": [
       "array([[0., 0., 0.],\n",
       "       [0., 0., 0.]])"
      ]
     },
     "execution_count": 29,
     "metadata": {},
     "output_type": "execute_result"
    }
   ],
   "source": [
    "emp"
   ]
  },
  {
   "cell_type": "code",
   "execution_count": 30,
   "id": "72eb387f",
   "metadata": {},
   "outputs": [],
   "source": [
    "# Creates array of the given dimention with default values\n",
    "empty_like = np.empty_like(lspace)"
   ]
  },
  {
   "cell_type": "code",
   "execution_count": 31,
   "id": "b73d08e4",
   "metadata": {},
   "outputs": [
    {
     "data": {
      "text/plain": [
       "array([ 1.        ,  6.44444444, 11.88888889, 17.33333333, 22.77777778,\n",
       "       28.22222222, 33.66666667, 39.11111111, 44.55555556, 50.        ])"
      ]
     },
     "execution_count": 31,
     "metadata": {},
     "output_type": "execute_result"
    }
   ],
   "source": [
    "empty_like"
   ]
  },
  {
   "cell_type": "code",
   "execution_count": 32,
   "id": "0a08841f",
   "metadata": {},
   "outputs": [
    {
     "data": {
      "text/plain": [
       "array([[1., 0., 0., 0., 0.],\n",
       "       [0., 1., 0., 0., 0.],\n",
       "       [0., 0., 1., 0., 0.],\n",
       "       [0., 0., 0., 1., 0.],\n",
       "       [0., 0., 0., 0., 1.]])"
      ]
     },
     "execution_count": 32,
     "metadata": {},
     "output_type": "execute_result"
    }
   ],
   "source": [
    "# Creat identity matrix\n",
    "np.identity(5)"
   ]
  },
  {
   "cell_type": "code",
   "execution_count": 34,
   "id": "ec62339f",
   "metadata": {},
   "outputs": [],
   "source": [
    "# Reshape array if shape possible\n",
    "rang = rang.reshape(4,5)"
   ]
  },
  {
   "cell_type": "code",
   "execution_count": 35,
   "id": "84c1fd8c",
   "metadata": {},
   "outputs": [
    {
     "data": {
      "text/plain": [
       "array([[ 0,  1,  2,  3,  4],\n",
       "       [ 5,  6,  7,  8,  9],\n",
       "       [10, 11, 12, 13, 14],\n",
       "       [15, 16, 17, 18, 19]])"
      ]
     },
     "execution_count": 35,
     "metadata": {},
     "output_type": "execute_result"
    }
   ],
   "source": [
    "rang"
   ]
  },
  {
   "cell_type": "code",
   "execution_count": 36,
   "id": "ca74658a",
   "metadata": {},
   "outputs": [],
   "source": [
    "# Flatenning a n-D array\n",
    "rang = rang.ravel()"
   ]
  },
  {
   "cell_type": "code",
   "execution_count": 37,
   "id": "54d73387",
   "metadata": {},
   "outputs": [
    {
     "data": {
      "text/plain": [
       "array([ 0,  1,  2,  3,  4,  5,  6,  7,  8,  9, 10, 11, 12, 13, 14, 15, 16,\n",
       "       17, 18, 19])"
      ]
     },
     "execution_count": 37,
     "metadata": {},
     "output_type": "execute_result"
    }
   ],
   "source": [
    "rang"
   ]
  },
  {
   "cell_type": "code",
   "execution_count": 38,
   "id": "fd81dca8",
   "metadata": {},
   "outputs": [],
   "source": [
    "x = [[1,2,3], [7,8,9], [4,5,6]]"
   ]
  },
  {
   "cell_type": "code",
   "execution_count": 39,
   "id": "cd40d42e",
   "metadata": {},
   "outputs": [],
   "source": [
    "newarr = np.array(x)"
   ]
  },
  {
   "cell_type": "code",
   "execution_count": 40,
   "id": "38326783",
   "metadata": {},
   "outputs": [
    {
     "data": {
      "text/plain": [
       "array([[1, 2, 3],\n",
       "       [7, 8, 9],\n",
       "       [4, 5, 6]])"
      ]
     },
     "execution_count": 40,
     "metadata": {},
     "output_type": "execute_result"
    }
   ],
   "source": [
    "newarr"
   ]
  },
  {
   "cell_type": "code",
   "execution_count": 41,
   "id": "1e6abdbb",
   "metadata": {},
   "outputs": [
    {
     "data": {
      "text/plain": [
       "45"
      ]
     },
     "execution_count": 41,
     "metadata": {},
     "output_type": "execute_result"
    }
   ],
   "source": [
    "newarr.sum()"
   ]
  },
  {
   "cell_type": "code",
   "execution_count": 42,
   "id": "a9d733ff",
   "metadata": {},
   "outputs": [
    {
     "data": {
      "text/plain": [
       "array([12, 15, 18])"
      ]
     },
     "execution_count": 42,
     "metadata": {},
     "output_type": "execute_result"
    }
   ],
   "source": [
    "newarr.sum(axis = 0)"
   ]
  },
  {
   "cell_type": "code",
   "execution_count": 43,
   "id": "42c04368",
   "metadata": {},
   "outputs": [
    {
     "data": {
      "text/plain": [
       "array([ 6, 24, 15])"
      ]
     },
     "execution_count": 43,
     "metadata": {},
     "output_type": "execute_result"
    }
   ],
   "source": [
    "newarr.sum(axis = 1)"
   ]
  },
  {
   "cell_type": "code",
   "execution_count": 44,
   "id": "c5a4e722",
   "metadata": {},
   "outputs": [
    {
     "data": {
      "text/plain": [
       "array([[1, 7, 4],\n",
       "       [2, 8, 5],\n",
       "       [3, 9, 6]])"
      ]
     },
     "execution_count": 44,
     "metadata": {},
     "output_type": "execute_result"
    }
   ],
   "source": [
    "# transpose matrix\n",
    "newarr.T"
   ]
  },
  {
   "cell_type": "code",
   "execution_count": 46,
   "id": "eae58e7c",
   "metadata": {},
   "outputs": [
    {
     "data": {
      "text/plain": [
       "<numpy.flatiter at 0x1e5d81f0c20>"
      ]
     },
     "execution_count": 46,
     "metadata": {},
     "output_type": "execute_result"
    }
   ],
   "source": [
    "# Gives an iterator to flatten\n",
    "newarr.flat"
   ]
  },
  {
   "cell_type": "code",
   "execution_count": 47,
   "id": "c7f3ca11",
   "metadata": {},
   "outputs": [
    {
     "name": "stdout",
     "output_type": "stream",
     "text": [
      "1\n",
      "2\n",
      "3\n",
      "7\n",
      "8\n",
      "9\n",
      "4\n",
      "5\n",
      "6\n"
     ]
    }
   ],
   "source": [
    "for num in newarr.flat:\n",
    "    print(num)"
   ]
  },
  {
   "cell_type": "code",
   "execution_count": 48,
   "id": "27c2b719",
   "metadata": {},
   "outputs": [
    {
     "data": {
      "text/plain": [
       "2"
      ]
     },
     "execution_count": 48,
     "metadata": {},
     "output_type": "execute_result"
    }
   ],
   "source": [
    "# how many dimension does the given array has\n",
    "newarr.ndim"
   ]
  },
  {
   "cell_type": "code",
   "execution_count": 49,
   "id": "f40a409f",
   "metadata": {},
   "outputs": [
    {
     "data": {
      "text/plain": [
       "9"
      ]
     },
     "execution_count": 49,
     "metadata": {},
     "output_type": "execute_result"
    }
   ],
   "source": [
    "# Total number of elements\n",
    "newarr.size"
   ]
  },
  {
   "cell_type": "code",
   "execution_count": 50,
   "id": "451368bd",
   "metadata": {},
   "outputs": [
    {
     "data": {
      "text/plain": [
       "36"
      ]
     },
     "execution_count": 50,
     "metadata": {},
     "output_type": "execute_result"
    }
   ],
   "source": [
    "# Total bytes consumed\n",
    "newarr.nbytes"
   ]
  },
  {
   "cell_type": "code",
   "execution_count": 51,
   "id": "c19816c3",
   "metadata": {},
   "outputs": [],
   "source": [
    "oneD = np.array([6,8,2,3,55,9,266])"
   ]
  },
  {
   "cell_type": "code",
   "execution_count": 52,
   "id": "10f5b294",
   "metadata": {},
   "outputs": [
    {
     "data": {
      "text/plain": [
       "6"
      ]
     },
     "execution_count": 52,
     "metadata": {},
     "output_type": "execute_result"
    }
   ],
   "source": [
    "# Index of maximum value\n",
    "oneD.argmax()"
   ]
  },
  {
   "cell_type": "code",
   "execution_count": 53,
   "id": "e31f6656",
   "metadata": {},
   "outputs": [
    {
     "data": {
      "text/plain": [
       "2"
      ]
     },
     "execution_count": 53,
     "metadata": {},
     "output_type": "execute_result"
    }
   ],
   "source": [
    "# Index of minimum value\n",
    "oneD.argmin()"
   ]
  },
  {
   "cell_type": "code",
   "execution_count": 55,
   "id": "f5f0ca40",
   "metadata": {},
   "outputs": [
    {
     "data": {
      "text/plain": [
       "array([2, 3, 0, 1, 5, 4, 6], dtype=int64)"
      ]
     },
     "execution_count": 55,
     "metadata": {},
     "output_type": "execute_result"
    }
   ],
   "source": [
    "# Gives array of sorted values indexes\n",
    "oneD.argsort()"
   ]
  },
  {
   "cell_type": "code",
   "execution_count": 56,
   "id": "2baaad23",
   "metadata": {},
   "outputs": [
    {
     "data": {
      "text/plain": [
       "array([[1, 2, 3],\n",
       "       [7, 8, 9],\n",
       "       [4, 5, 6]])"
      ]
     },
     "execution_count": 56,
     "metadata": {},
     "output_type": "execute_result"
    }
   ],
   "source": [
    "# For 2-D array\n",
    "newarr"
   ]
  },
  {
   "cell_type": "code",
   "execution_count": 57,
   "id": "f778b8a0",
   "metadata": {},
   "outputs": [
    {
     "data": {
      "text/plain": [
       "5"
      ]
     },
     "execution_count": 57,
     "metadata": {},
     "output_type": "execute_result"
    }
   ],
   "source": [
    "# Flattens the matrix into single D array then gives index of max element\n",
    "newarr.argmax()"
   ]
  },
  {
   "cell_type": "code",
   "execution_count": 58,
   "id": "75810979",
   "metadata": {},
   "outputs": [
    {
     "data": {
      "text/plain": [
       "0"
      ]
     },
     "execution_count": 58,
     "metadata": {},
     "output_type": "execute_result"
    }
   ],
   "source": [
    "# Flattens the matrix into single D array then gives index of min element\n",
    "newarr.argmin()"
   ]
  },
  {
   "cell_type": "code",
   "execution_count": 59,
   "id": "24f966ba",
   "metadata": {},
   "outputs": [
    {
     "data": {
      "text/plain": [
       "array([1, 1, 1], dtype=int64)"
      ]
     },
     "execution_count": 59,
     "metadata": {},
     "output_type": "execute_result"
    }
   ],
   "source": [
    "# Gives min index of column of array\n",
    "newarr.argmax(axis = 0)"
   ]
  },
  {
   "cell_type": "code",
   "execution_count": 60,
   "id": "72a26e52",
   "metadata": {},
   "outputs": [
    {
     "data": {
      "text/plain": [
       "array([1, 2, 3, 7, 8, 9, 4, 5, 6])"
      ]
     },
     "execution_count": 60,
     "metadata": {},
     "output_type": "execute_result"
    }
   ],
   "source": [
    "newarr.ravel()"
   ]
  },
  {
   "cell_type": "code",
   "execution_count": 61,
   "id": "c3cf14f4",
   "metadata": {},
   "outputs": [
    {
     "data": {
      "text/plain": [
       "array([[1],\n",
       "       [2],\n",
       "       [3],\n",
       "       [7],\n",
       "       [8],\n",
       "       [9],\n",
       "       [4],\n",
       "       [5],\n",
       "       [6]])"
      ]
     },
     "execution_count": 61,
     "metadata": {},
     "output_type": "execute_result"
    }
   ],
   "source": [
    "newarr.reshape((9,1))"
   ]
  },
  {
   "cell_type": "code",
   "execution_count": 64,
   "id": "a2a17519",
   "metadata": {},
   "outputs": [
    {
     "data": {
      "text/plain": [
       "array([1, 2, 3, 7, 8, 9, 4, 5, 6])"
      ]
     },
     "execution_count": 64,
     "metadata": {},
     "output_type": "execute_result"
    }
   ],
   "source": [
    "newarr.reshape((9))"
   ]
  },
  {
   "cell_type": "markdown",
   "id": "0175c83e",
   "metadata": {},
   "source": [
    "### Array/Matrix operations"
   ]
  },
  {
   "cell_type": "code",
   "execution_count": 65,
   "id": "9d8f2ad5",
   "metadata": {},
   "outputs": [
    {
     "data": {
      "text/plain": [
       "array([[1, 2, 3],\n",
       "       [7, 8, 9],\n",
       "       [4, 5, 6]])"
      ]
     },
     "execution_count": 65,
     "metadata": {},
     "output_type": "execute_result"
    }
   ],
   "source": [
    "newarr2 = np.array([[2,5,3], [4,1,6], [9,7,8]])"
   ]
  },
  {
   "cell_type": "code",
   "execution_count": 67,
   "id": "3cbd68b3",
   "metadata": {},
   "outputs": [
    {
     "data": {
      "text/plain": [
       "array([[1, 2, 3],\n",
       "       [7, 8, 9],\n",
       "       [4, 5, 6]])"
      ]
     },
     "execution_count": 67,
     "metadata": {},
     "output_type": "execute_result"
    }
   ],
   "source": [
    "newarr"
   ]
  },
  {
   "cell_type": "code",
   "execution_count": 68,
   "id": "2b70f9b8",
   "metadata": {},
   "outputs": [
    {
     "data": {
      "text/plain": [
       "array([[2, 5, 3],\n",
       "       [4, 1, 6],\n",
       "       [9, 7, 8]])"
      ]
     },
     "execution_count": 68,
     "metadata": {},
     "output_type": "execute_result"
    }
   ],
   "source": [
    "newarr2"
   ]
  },
  {
   "cell_type": "code",
   "execution_count": 69,
   "id": "21cd1390",
   "metadata": {},
   "outputs": [
    {
     "data": {
      "text/plain": [
       "array([[ 3,  7,  6],\n",
       "       [11,  9, 15],\n",
       "       [13, 12, 14]])"
      ]
     },
     "execution_count": 69,
     "metadata": {},
     "output_type": "execute_result"
    }
   ],
   "source": [
    "# Adds array\n",
    "newarr + newarr2"
   ]
  },
  {
   "cell_type": "code",
   "execution_count": 70,
   "id": "54c239a7",
   "metadata": {},
   "outputs": [
    {
     "data": {
      "text/plain": [
       "array([[ 2, 10,  9],\n",
       "       [28,  8, 54],\n",
       "       [36, 35, 48]])"
      ]
     },
     "execution_count": 70,
     "metadata": {},
     "output_type": "execute_result"
    }
   ],
   "source": [
    "# multiply array\n",
    "newarr * newarr2"
   ]
  },
  {
   "cell_type": "code",
   "execution_count": 71,
   "id": "d6104e69",
   "metadata": {},
   "outputs": [
    {
     "data": {
      "text/plain": [
       "array([[ 1,  4,  9],\n",
       "       [49, 64, 81],\n",
       "       [16, 25, 36]], dtype=int32)"
      ]
     },
     "execution_count": 71,
     "metadata": {},
     "output_type": "execute_result"
    }
   ],
   "source": [
    "# Squres the given array\n",
    "np.square(newarr)"
   ]
  },
  {
   "cell_type": "code",
   "execution_count": 72,
   "id": "c6efcaea",
   "metadata": {},
   "outputs": [
    {
     "data": {
      "text/plain": [
       "45"
      ]
     },
     "execution_count": 72,
     "metadata": {},
     "output_type": "execute_result"
    }
   ],
   "source": [
    "newarr.sum()"
   ]
  },
  {
   "cell_type": "code",
   "execution_count": 73,
   "id": "f2304d81",
   "metadata": {},
   "outputs": [
    {
     "data": {
      "text/plain": [
       "9"
      ]
     },
     "execution_count": 73,
     "metadata": {},
     "output_type": "execute_result"
    }
   ],
   "source": [
    "newarr.max()"
   ]
  },
  {
   "cell_type": "code",
   "execution_count": 74,
   "id": "1f99d677",
   "metadata": {},
   "outputs": [
    {
     "data": {
      "text/plain": [
       "1"
      ]
     },
     "execution_count": 74,
     "metadata": {},
     "output_type": "execute_result"
    }
   ],
   "source": [
    "newarr.min()"
   ]
  },
  {
   "cell_type": "markdown",
   "id": "f62435c1",
   "metadata": {},
   "source": [
    "### Finding an element in array"
   ]
  },
  {
   "cell_type": "code",
   "execution_count": 77,
   "id": "fb7a3f16",
   "metadata": {},
   "outputs": [
    {
     "data": {
      "text/plain": [
       "array([[1, 2, 3],\n",
       "       [7, 8, 9],\n",
       "       [4, 5, 6]])"
      ]
     },
     "execution_count": 77,
     "metadata": {},
     "output_type": "execute_result"
    }
   ],
   "source": [
    "newarr"
   ]
  },
  {
   "cell_type": "code",
   "execution_count": 81,
   "id": "393a3a05",
   "metadata": {},
   "outputs": [
    {
     "data": {
      "text/plain": [
       "(array([2], dtype=int64), array([1], dtype=int64))"
      ]
     },
     "execution_count": 81,
     "metadata": {},
     "output_type": "execute_result"
    }
   ],
   "source": [
    "np.where(newarr==5)"
   ]
  },
  {
   "cell_type": "code",
   "execution_count": 82,
   "id": "9bd29045",
   "metadata": {},
   "outputs": [
    {
     "data": {
      "text/plain": [
       "9"
      ]
     },
     "execution_count": 82,
     "metadata": {},
     "output_type": "execute_result"
    }
   ],
   "source": [
    "np.count_nonzero(newarr)"
   ]
  },
  {
   "cell_type": "code",
   "execution_count": 83,
   "id": "00c4965e",
   "metadata": {},
   "outputs": [
    {
     "data": {
      "text/plain": [
       "(array([0, 0, 0, 1, 1, 1, 2, 2, 2], dtype=int64),\n",
       " array([0, 1, 2, 0, 1, 2, 0, 1, 2], dtype=int64))"
      ]
     },
     "execution_count": 83,
     "metadata": {},
     "output_type": "execute_result"
    }
   ],
   "source": [
    "np.nonzero(newarr)"
   ]
  },
  {
   "cell_type": "code",
   "execution_count": null,
   "id": "5b8e5995",
   "metadata": {},
   "outputs": [],
   "source": []
  }
 ],
 "metadata": {
  "kernelspec": {
   "display_name": "Python 3 (ipykernel)",
   "language": "python",
   "name": "python3"
  },
  "language_info": {
   "codemirror_mode": {
    "name": "ipython",
    "version": 3
   },
   "file_extension": ".py",
   "mimetype": "text/x-python",
   "name": "python",
   "nbconvert_exporter": "python",
   "pygments_lexer": "ipython3",
   "version": "3.9.12"
  }
 },
 "nbformat": 4,
 "nbformat_minor": 5
}
